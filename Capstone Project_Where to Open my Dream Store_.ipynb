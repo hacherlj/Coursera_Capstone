{
 "cells": [
  {
   "cell_type": "markdown",
   "metadata": {},
   "source": [
    "# Capstone Project: Where to Open my Dream Store?"
   ]
  },
  {
   "cell_type": "markdown",
   "metadata": {},
   "source": [
    "## <u>Introduction<u/>"
   ]
  },
  {
   "cell_type": "markdown",
   "metadata": {},
   "source": [
    "A client approached me recently with a unique problem that they wanted to solve:\n",
    "\n",
    "\"I'd like to finally pursue my dream of opening an independent bookstore! However, I have two problems; \n",
    "<br><u>First</u>, I want to open it in my favorite city, but my favorite cities are Seattle, Portland, and San Francisco! I need help picking which of the three would be ideal.\n",
    "<br><u>Second</u>, I want to make sure that I can find a location where it will be successful in whichever city I pick. Do you think you can help?\"\n",
    "\n",
    "Fortunately both of these problems will be simple to solve by using Foursquare data and some basic data analysis and machine learning techniques, so I agreed to help with their problem.\n",
    "\n",
    "<u><b>Tactics</b></u>\n",
    "<br>The two problems above can be defined as followed:\n",
    "<ol>\n",
    "    <li>Which city (Seattle, Portland, or San Francisco) would be best to open a bookstore in.</li>\n",
    "    <li>Which neighborhood in the candidate city from problem 1 will have the least competition and best support a bookstore.</li>\n",
    "</ol>\n",
    "<p>Problem 1 can be solved by utilizing Foursquare data and basic data analyses to see which city currently has the most bookstores. Ideally we want to select the city which has neither too many (heavy competition/over-crowding) or too few (implies low readership in city). Depending on the data, all 3 cities could be potential candidates.\n",
    "<br>Problem 2 can be solved by using k-means clustering techniques to break each city into their distinct neighboorhoods and then identifying what the composition of each neighboorhood is like. I'll filter the venue results to specifically look at venues that could cause reasonable competition for a bookstore: other bookstores, gift shops, libraries, gift shops, boutiques, etc."
   ]
  },
  {
   "cell_type": "markdown",
   "metadata": {},
   "source": [
    "## <u> Data </u>"
   ]
  },
  {
   "cell_type": "markdown",
   "metadata": {},
   "source": [
    "Only Foursquare data will be used for this project. Since the client has already provided their target cities, I do not need to use outside sources to identify a pool of cities from the USA. Since I am also only interested in demographics of other businesses/venues, Foursquare will be the best resource to find this information.\n",
    "\n",
    "<u><b> Analysis</b></u>\n",
    "<br>I will use the Foursquare API, k-means clustering, basic data exploration, regressions for identiying levels of competition, and visualizations to illustrate my arguments for my selected neighborhood and city candidates."
   ]
  },
  {
   "cell_type": "code",
   "execution_count": null,
   "metadata": {},
   "outputs": [],
   "source": []
  }
 ],
 "metadata": {
  "kernelspec": {
   "display_name": "Python",
   "language": "python",
   "name": "conda-env-python-py"
  },
  "language_info": {
   "codemirror_mode": {
    "name": "ipython",
    "version": 3
   },
   "file_extension": ".py",
   "mimetype": "text/x-python",
   "name": "python",
   "nbconvert_exporter": "python",
   "pygments_lexer": "ipython3",
   "version": "3.6.7"
  }
 },
 "nbformat": 4,
 "nbformat_minor": 4
}
